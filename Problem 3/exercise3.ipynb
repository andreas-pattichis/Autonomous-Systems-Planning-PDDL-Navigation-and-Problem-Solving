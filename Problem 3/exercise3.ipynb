{
  "cells": [
    {
      "cell_type": "markdown",
      "id": "b77481b3-636c-44f9-89c4-f4ba2ab4135e",
      "metadata": {
        "id": "b77481b3-636c-44f9-89c4-f4ba2ab4135e"
      },
      "source": [
        "# Installation\n",
        "\n",
        "Execute the following commands to install the library for Generalized Planning:\n"
      ]
    },
    {
      "cell_type": "code",
      "execution_count": 1,
      "id": "57d679a2-8aa0-4120-b560-be3502e81564",
      "metadata": {
        "colab": {
          "base_uri": "https://localhost:8080/"
        },
        "id": "57d679a2-8aa0-4120-b560-be3502e81564",
        "outputId": "37ad2955-52dd-407c-a90d-876b39f0fac5"
      },
      "outputs": [
        {
          "output_type": "stream",
          "name": "stdout",
          "text": [
            "Requirement already satisfied: pip in /usr/local/lib/python3.10/dist-packages (23.1.2)\n",
            "Collecting pip\n",
            "  Downloading pip-23.3.1-py3-none-any.whl (2.1 MB)\n",
            "\u001b[2K     \u001b[90m━━━━━━━━━━━━━━━━━━━━━━━━━━━━━━━━━━━━━━━━\u001b[0m \u001b[32m2.1/2.1 MB\u001b[0m \u001b[31m17.6 MB/s\u001b[0m eta \u001b[36m0:00:00\u001b[0m\n",
            "\u001b[?25hInstalling collected packages: pip\n",
            "  Attempting uninstall: pip\n",
            "    Found existing installation: pip 23.1.2\n",
            "    Uninstalling pip-23.1.2:\n",
            "      Successfully uninstalled pip-23.1.2\n",
            "Successfully installed pip-23.3.1\n",
            "--2023-11-23 16:59:47--  https://raw.githubusercontent.com/jsego/bfgp-pp/main/requirements.txt\n",
            "Resolving raw.githubusercontent.com (raw.githubusercontent.com)... 185.199.111.133, 185.199.110.133, 185.199.108.133, ...\n",
            "Connecting to raw.githubusercontent.com (raw.githubusercontent.com)|185.199.111.133|:443... connected.\n",
            "HTTP request sent, awaiting response... 200 OK\n",
            "Length: 148 [text/plain]\n",
            "Saving to: ‘requirements.txt’\n",
            "\n",
            "requirements.txt    100%[===================>]     148  --.-KB/s    in 0s      \n",
            "\n",
            "Last-modified header missing -- time-stamps turned off.\n",
            "2023-11-23 16:59:48 (4.70 MB/s) - ‘requirements.txt’ saved [148/148]\n",
            "\n",
            "Collecting antlr4-python3-runtime==4.7.2 (from -r requirements.txt (line 1))\n",
            "  Downloading antlr4-python3-runtime-4.7.2.tar.gz (112 kB)\n",
            "\u001b[2K     \u001b[90m━━━━━━━━━━━━━━━━━━━━━━━━━━━━━━━━━━━━━━━━\u001b[0m \u001b[32m112.3/112.3 kB\u001b[0m \u001b[31m2.4 MB/s\u001b[0m eta \u001b[36m0:00:00\u001b[0m\n",
            "\u001b[?25h  Preparing metadata (setup.py) ... \u001b[?25l\u001b[?25hdone\n",
            "Requirement already satisfied: cffi in /usr/local/lib/python3.10/dist-packages (from -r requirements.txt (line 2)) (1.16.0)\n",
            "Collecting clingo==5.6.2 (from -r requirements.txt (line 3))\n",
            "  Downloading clingo-5.6.2-cp310-cp310-manylinux_2_17_x86_64.manylinux2014_x86_64.whl (2.2 MB)\n",
            "\u001b[2K     \u001b[90m━━━━━━━━━━━━━━━━━━━━━━━━━━━━━━━━━━━━━━━━\u001b[0m \u001b[32m2.2/2.2 MB\u001b[0m \u001b[31m32.6 MB/s\u001b[0m eta \u001b[36m0:00:00\u001b[0m\n",
            "\u001b[?25hCollecting multipledispatch==0.6.0 (from -r requirements.txt (line 4))\n",
            "  Downloading multipledispatch-0.6.0-py3-none-any.whl (11 kB)\n",
            "Requirement already satisfied: numpy in /usr/local/lib/python3.10/dist-packages (from -r requirements.txt (line 5)) (1.23.5)\n",
            "Requirement already satisfied: psutil==5.9.5 in /usr/local/lib/python3.10/dist-packages (from -r requirements.txt (line 6)) (5.9.5)\n",
            "Requirement already satisfied: pycparser==2.21 in /usr/local/lib/python3.10/dist-packages (from -r requirements.txt (line 7)) (2.21)\n",
            "Requirement already satisfied: six==1.16.0 in /usr/local/lib/python3.10/dist-packages (from -r requirements.txt (line 8)) (1.16.0)\n",
            "Collecting tarski==0.8.2 (from -r requirements.txt (line 9))\n",
            "  Downloading tarski-0.8.2-py3-none-any.whl (213 kB)\n",
            "\u001b[2K     \u001b[90m━━━━━━━━━━━━━━━━━━━━━━━━━━━━━━━━━━━━━━━━\u001b[0m \u001b[32m213.1/213.1 kB\u001b[0m \u001b[31m13.8 MB/s\u001b[0m eta \u001b[36m0:00:00\u001b[0m\n",
            "\u001b[?25hRequirement already satisfied: tqdm==4.66.1 in /usr/local/lib/python3.10/dist-packages (from -r requirements.txt (line 10)) (4.66.1)\n",
            "Building wheels for collected packages: antlr4-python3-runtime\n",
            "  Building wheel for antlr4-python3-runtime (setup.py) ... \u001b[?25l\u001b[?25hdone\n",
            "  Created wheel for antlr4-python3-runtime: filename=antlr4_python3_runtime-4.7.2-py3-none-any.whl size=140930 sha256=fddb6a2fc897d318f9fc829519e438ccfd3245d7634435c7eba89e4ac2677d34\n",
            "  Stored in directory: /root/.cache/pip/wheels/79/20/ec/30bf7dabc29319ccc0d0c96f910a640513a3c81faa960fed43\n",
            "Successfully built antlr4-python3-runtime\n",
            "Installing collected packages: antlr4-python3-runtime, multipledispatch, tarski, clingo\n",
            "  Attempting uninstall: multipledispatch\n",
            "    Found existing installation: multipledispatch 1.0.0\n",
            "    Uninstalling multipledispatch-1.0.0:\n",
            "      Successfully uninstalled multipledispatch-1.0.0\n",
            "Successfully installed antlr4-python3-runtime-4.7.2 clingo-5.6.2 multipledispatch-0.6.0 tarski-0.8.2\n",
            "\u001b[33mWARNING: Running pip as the 'root' user can result in broken permissions and conflicting behaviour with the system package manager. It is recommended to use a virtual environment instead: https://pip.pypa.io/warnings/venv\u001b[0m\u001b[33m\n",
            "\u001b[0mCloning into 'unified-planning'...\n",
            "remote: Enumerating objects: 19256, done.\u001b[K\n",
            "remote: Counting objects: 100% (6859/6859), done.\u001b[K\n",
            "remote: Compressing objects: 100% (1097/1097), done.\u001b[K\n",
            "remote: Total 19256 (delta 5914), reused 6437 (delta 5751), pack-reused 12397\u001b[K\n",
            "Receiving objects: 100% (19256/19256), 7.09 MiB | 16.32 MiB/s, done.\n",
            "Resolving deltas: 100% (14466/14466), done.\n",
            "Processing ./unified-planning\n",
            "  Preparing metadata (setup.py) ... \u001b[?25l\u001b[?25hdone\n",
            "Requirement already satisfied: pyparsing in /usr/local/lib/python3.10/dist-packages (from unified-planning==1.0.0) (3.1.1)\n",
            "Requirement already satisfied: networkx in /usr/local/lib/python3.10/dist-packages (from unified-planning==1.0.0) (3.2.1)\n",
            "Collecting ConfigSpace (from unified-planning==1.0.0)\n",
            "  Downloading ConfigSpace-0.7.1-cp310-cp310-manylinux_2_17_x86_64.manylinux2014_x86_64.whl.metadata (7.2 kB)\n",
            "Requirement already satisfied: numpy in /usr/local/lib/python3.10/dist-packages (from ConfigSpace->unified-planning==1.0.0) (1.23.5)\n",
            "Requirement already satisfied: scipy in /usr/local/lib/python3.10/dist-packages (from ConfigSpace->unified-planning==1.0.0) (1.11.3)\n",
            "Requirement already satisfied: typing-extensions in /usr/local/lib/python3.10/dist-packages (from ConfigSpace->unified-planning==1.0.0) (4.5.0)\n",
            "Requirement already satisfied: more-itertools in /usr/local/lib/python3.10/dist-packages (from ConfigSpace->unified-planning==1.0.0) (10.1.0)\n",
            "Downloading ConfigSpace-0.7.1-cp310-cp310-manylinux_2_17_x86_64.manylinux2014_x86_64.whl (6.3 MB)\n",
            "\u001b[2K   \u001b[90m━━━━━━━━━━━━━━━━━━━━━━━━━━━━━━━━━━━━━━━━\u001b[0m \u001b[32m6.3/6.3 MB\u001b[0m \u001b[31m12.9 MB/s\u001b[0m eta \u001b[36m0:00:00\u001b[0m\n",
            "\u001b[?25hBuilding wheels for collected packages: unified-planning\n",
            "  Building wheel for unified-planning (setup.py) ... \u001b[?25l\u001b[?25hdone\n",
            "  Created wheel for unified-planning: filename=unified_planning-1.0.0-py3-none-any.whl size=691576 sha256=c30a7a0be2afd1ebe4a162aff81f1b4f181a6f129c1a78cc8646b8301a5b3fcd\n",
            "  Stored in directory: /root/.cache/pip/wheels/84/7f/a6/7cee8eb19eafce32fb163bdb5bc7b678a0024f79186d295286\n",
            "Successfully built unified-planning\n",
            "Installing collected packages: ConfigSpace, unified-planning\n",
            "Successfully installed ConfigSpace-0.7.1 unified-planning-1.0.0\n",
            "\u001b[33mWARNING: Running pip as the 'root' user can result in broken permissions and conflicting behaviour with the system package manager. It is recommended to use a virtual environment instead: https://pip.pypa.io/warnings/venv\u001b[0m\u001b[33m\n",
            "\u001b[0mCollecting up-bfgp==0.2.0\n",
            "  Downloading up_bfgp-0.2.0-py3-none-any.whl.metadata (543 bytes)\n",
            "Downloading up_bfgp-0.2.0-py3-none-any.whl (297 kB)\n",
            "\u001b[2K   \u001b[90m━━━━━━━━━━━━━━━━━━━━━━━━━━━━━━━━━━━━━━━━\u001b[0m \u001b[32m297.7/297.7 kB\u001b[0m \u001b[31m5.3 MB/s\u001b[0m eta \u001b[36m0:00:00\u001b[0m\n",
            "\u001b[?25hInstalling collected packages: up-bfgp\n",
            "Successfully installed up-bfgp-0.2.0\n",
            "\u001b[33mWARNING: Running pip as the 'root' user can result in broken permissions and conflicting behaviour with the system package manager. It is recommended to use a virtual environment instead: https://pip.pypa.io/warnings/venv\u001b[0m\u001b[33m\n",
            "\u001b[0m"
          ]
        }
      ],
      "source": [
        "# Update PIP\n",
        "!pip install --upgrade pip\n",
        "\n",
        "# Install BFGP++ requirements\n",
        "!wget -N https://raw.githubusercontent.com/jsego/bfgp-pp/main/requirements.txt\n",
        "!pip install -r requirements.txt\n",
        "\n",
        "# Clone the Unified Planning (forked version) for Few-Shot planning\n",
        "!git clone https://github.com/jsego/unified-planning\n",
        "!pip install unified-planning/\n",
        "\n",
        "# Install the UP-BFGP interface\n",
        "!pip install up-bfgp==0.2.0"
      ]
    },
    {
      "cell_type": "markdown",
      "id": "1931ad59-0798-42ff-9b29-723b2cf9758b",
      "metadata": {
        "id": "1931ad59-0798-42ff-9b29-723b2cf9758b"
      },
      "source": [
        "# Exercises\n",
        "\n",
        "1. Implement the `gripper/domain.pddl` file\n",
        "2. Find the minimum number of `program_lines` for the generalized plan\n"
      ]
    },
    {
      "cell_type": "code",
      "execution_count": 6,
      "id": "d538c0fa-e16c-4597-ae14-8ecaaba71c62",
      "metadata": {
        "colab": {
          "base_uri": "https://localhost:8080/"
        },
        "id": "d538c0fa-e16c-4597-ae14-8ecaaba71c62",
        "outputId": "d0e9036c-edf0-416d-91ba-315f9ed8bc9a"
      },
      "outputs": [
        {
          "output_type": "stream",
          "name": "stdout",
          "text": [
            "/usr/local/lib/python3.10/dist-packages/up_bfgp/bfgp_pp/main.bin -m synthesis -t cpp -f tmp/gripper/ -s 0 -l 8 -o tmp/gripper//gripper -pgp True\n",
            "/usr/local/lib/python3.10/dist-packages/up_bfgp/bfgp_pp/main.bin -m validation-prog -t cpp -f tmp/gripper/ -s 0 -p tmp/gripper//gripper.prog  -o tmp/gripper/  -plans True\n"
          ]
        }
      ],
      "source": [
        "from unified_planning.shortcuts import *  # type: ignore\n",
        "from unified_planning.plans import PlanKind  # type: ignore\n",
        "from unified_planning.engines.results import PlanGenerationResultStatus\n",
        "\n",
        "def base_bfgp_call(domain_file: str, problem_files: List[str], args: dict):\n",
        "    with up.environment.get_environment().factory.FewshotPlanner(name='bfgp') as bfgp:\n",
        "        bfgp.set_arguments(**args)\n",
        "        bfgp_problems = bfgp.generate_problems(domain_file, problem_files)\n",
        "        # Compute the generalized plan for these input problems\n",
        "        result = bfgp.solve(bfgp_problems, output_stream=sys.stdout)\n",
        "        # Check whether all generated plans are satisficing\n",
        "        return all(r == PlanGenerationResultStatus.SOLVED_SATISFICING for r in result)\n",
        "\n",
        "def main():\n",
        "    \"\"\"Testing the BFGP++ solver can solve 5 Gripper instances\"\"\"\n",
        "    domain = './gripper/domain.pddl' # ToDo: finish the Gripper domain implementation\n",
        "    problems = [f'./gripper/p{i:02}.pddl' for i in range(1, 6)]\n",
        "    kwargs = dict({'mode': 'synthesis',\n",
        "                   'theory': 'cpp',\n",
        "                   'program_lines': 8, # ToDo: find the minimum number of program lines\n",
        "                   'program': 'gripper',\n",
        "                   'translated_problem_dir': 'tmp/gripper/'})\n",
        "\n",
        "    assert(base_bfgp_call(domain_file=domain, problem_files=problems, args=kwargs))\n",
        "\n",
        "if __name__ == \"__main__\":\n",
        "    main()\n",
        "\n"
      ]
    }
  ],
  "metadata": {
    "kernelspec": {
      "display_name": "Python 3 (ipykernel)",
      "language": "python",
      "name": "python3"
    },
    "language_info": {
      "codemirror_mode": {
        "name": "ipython",
        "version": 3
      },
      "file_extension": ".py",
      "mimetype": "text/x-python",
      "name": "python",
      "nbconvert_exporter": "python",
      "pygments_lexer": "ipython3",
      "version": "3.11.5"
    },
    "colab": {
      "provenance": []
    }
  },
  "nbformat": 4,
  "nbformat_minor": 5
}